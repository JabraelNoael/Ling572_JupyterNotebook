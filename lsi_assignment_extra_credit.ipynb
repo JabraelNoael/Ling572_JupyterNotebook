{
  "cells": [
    {
      "cell_type": "markdown",
      "id": "a57588b0",
      "metadata": {
        "id": "a57588b0"
      },
      "source": [
        "## Latent Semantic Indexing Assignment (Extra credit)\n",
        "\n",
        "\n",
        "When we apply SVD reduction to textual data it is called **Latent Semantic Indexing**.\n",
        "\n",
        "This notebook asks you to work through an example in the domain of document retrieval."
      ]
    },
    {
      "cell_type": "markdown",
      "id": "9469a6c2",
      "metadata": {
        "id": "9469a6c2"
      },
      "source": [
        "Document set\n",
        "\n",
        "$$\n",
        "\\begin {array}{ll}\n",
        "d_0 &  \\text{Romeo and Juliet.}\\\\\n",
        "d_1 & \\text{Juliet: O happy dagger!}\\\\\n",
        "d_2 &  \\text{Romeo died by dagger.}\\\\\n",
        "d_3 & \\text{\"Live free or die\", that’s  New-Hampshire’s motto.}\\\\\n",
        "d_4 &  \\text{Did you know, New-Hampshire is in New-England?}\n",
        "\\end{array}\n",
        "$$\n",
        "\n",
        "\n",
        "Query:  dies dagger\n",
        "\n",
        "Goal.  Compute the following **relevance ranking** for the query:  d2, d1, d3, d0, d4\n",
        "\n",
        "The key point:  d0 ranks higher than d4, even though both fail to have any query words.  Why?\n",
        "Because d1 contains words that have **co-occurred** (occurred in the same document) with\n",
        "either or both query words.\n",
        "\n",
        "The **term document** matrtix for the above data is:\n",
        "\n",
        "$$\n",
        "\\begin {array}{lccccc}\n",
        "& d_0 & d_1 & d_2 & d_3& d_4\\\\\n",
        "\\hline\n",
        "\\text{romeo} & 1&  0&  1&  0&  0\\\\\n",
        "\\text{juliet} & 1&  1&  0&  0&  0\\\\\n",
        "\\text{happy}  & 0&  1&  0&  0&  0\\\\\n",
        "\\text{dagger} & 0&  1&  1&  0&  0\\\\\n",
        "\\text{live} & 0&  0&  0&  1&  0\\\\\n",
        "\\text{die} & 0&  0&  1&  1&  0\\\\\n",
        "\\text{free} & 0&  0&  0&  1&  0\\\\\n",
        "\\text{new-hampshire} & 0&  0&  0&  1&  1\n",
        "\\end{array}\n",
        "$$"
      ]
    },
    {
      "cell_type": "code",
      "execution_count": null,
      "id": "768e5936",
      "metadata": {
        "id": "768e5936"
      },
      "outputs": [],
      "source": [
        "docs = (\"Romeo and Juliet.\",\n",
        "        \"Juliet: O happy dagger!\",\n",
        "        \"Romeo died by dagger.\",\n",
        "        \"' Live free or die ', that's New-Hampshire's motto.\",\n",
        "        \"Did you know, New-Hampshire is in New-England?\")"
      ]
    },
    {
      "cell_type": "code",
      "execution_count": null,
      "id": "5fc355a1",
      "metadata": {
        "id": "5fc355a1"
      },
      "outputs": [],
      "source": [
        "import numpy as np\n",
        "\n",
        "#toy term document matrix\n",
        "TD = np.array([\n",
        "    [1,0,1,0,0],\n",
        "    [1,1,0,0,0],\n",
        "    [0,1,0,0,0],\n",
        "    [0,1,1,0,0],\n",
        "    [0,0,0,1,0],\n",
        "    [0,0,1,1,0],\n",
        "    [0,0,0,1,0],\n",
        "    [0,0,0,1,1],\n",
        "])\n",
        "\n",
        "#toy vocabulary (for the doc set above)\n",
        "V = \"romeo julie happy dagger live die free new-hampshire\".split()"
      ]
    },
    {
      "cell_type": "markdown",
      "id": "03b99134",
      "metadata": {
        "id": "03b99134"
      },
      "source": [
        "1.  Preprocess this data correctly so as to arrive at approximately the **target Term Document Matrix** and vocabulary (above),\n",
        "    using scikit learn text preprocessing tools (`Vectorizer`).\n",
        "2.  Reduce to 2 dimensions using SVD.\n",
        "3.  Transform the query into the reduced space.\n",
        "4.  Measure document relevance to the query using cosine.\n",
        "5.  Produce the target relevance ranking for the document set."
      ]
    },
    {
      "cell_type": "code",
      "execution_count": null,
      "id": "102597d1",
      "metadata": {
        "scrolled": false,
        "id": "102597d1"
      },
      "outputs": [],
      "source": [
        "from sklearn.feature_extraction.text import CountVectorizer\n",
        "#from sklearn.feature_extraction.text import TfidfTransformer\n",
        "from sklearn.decomposition import TruncatedSVD\n",
        "from sklearn.metrics.pairwise import cosine_similarity\n",
        "import nltk\n",
        "from nltk.tokenize import TreebankWordTokenizer#RegexpTokenizer#StringTokenizer\n",
        "stemmer = nltk.PorterStemmer()\n",
        "#stemmer = nltk.LancasterStemmer()\n",
        "tb_tknzr = TreebankWordTokenizer()\n",
        "\n",
        "# Slip a stemmer into the tokenizer\n",
        "\n",
        "def my_tokenizer (doc,stemmer=stemmer,tokenizer=tb_tknzr):\n",
        "    return [stemmer.stem(wd) for wd in tokenizer.tokenize(doc)]\n",
        "\n",
        "puncts = list(\":,.?!\\'\")\n",
        "stop_words= \"and by did in is or know you that \\'s o\".split()\n",
        "cv = CountVectorizer(stop_words=stop_words+puncts,tokenizer=my_tokenizer,min_df=2,token_pattern=None)\n",
        "# we call it dtm because the rows are docs, and the columns are terms (words)\n",
        "dtm = cv.fit_transform(docs)\n",
        "\n",
        "#to get vocab list\n",
        "#cv.get_feature_names_out()\n",
        "\n",
        "#cv.inverse_transform(dtm)"
      ]
    },
    {
      "cell_type": "code",
      "execution_count": null,
      "id": "1c4d1dc4",
      "metadata": {
        "colab": {
          "base_uri": "https://localhost:8080/"
        },
        "id": "1c4d1dc4",
        "outputId": "d368b3f9-78b4-4b5e-d854-b9fc5af25d56"
      },
      "outputs": [
        {
          "output_type": "execute_result",
          "data": {
            "text/plain": [
              "['u',\n",
              " 's',\n",
              " 'forc',\n",
              " 'hope',\n",
              " 'that',\n",
              " 'the',\n",
              " 'world',\n",
              " 'domin',\n",
              " 'by',\n",
              " 'domin',\n",
              " 'aggrav',\n",
              " 'and',\n",
              " 'fidel']"
            ]
          },
          "metadata": {},
          "execution_count": 6
        }
      ],
      "source": [
        "# Porter\n",
        "stmr = nltk.PorterStemmer()\n",
        "my_tokenizer(\"u s forces hope that the world dominates by domination aggravation and fidelity\",\n",
        "            stemmer=stmr)"
      ]
    },
    {
      "cell_type": "code",
      "execution_count": null,
      "id": "a4106e2f",
      "metadata": {
        "colab": {
          "base_uri": "https://localhost:8080/"
        },
        "id": "a4106e2f",
        "outputId": "1cad926d-3735-4f88-ebc2-83f4e550b300"
      },
      "outputs": [
        {
          "output_type": "execute_result",
          "data": {
            "text/plain": [
              "['u',\n",
              " 's',\n",
              " 'forc',\n",
              " 'hop',\n",
              " 'that',\n",
              " 'the',\n",
              " 'world',\n",
              " 'domin',\n",
              " 'by',\n",
              " 'domin',\n",
              " 'aggrav',\n",
              " 'and',\n",
              " 'fidel']"
            ]
          },
          "metadata": {},
          "execution_count": 7
        }
      ],
      "source": [
        "# Lancaster\n",
        "stmr = nltk.LancasterStemmer()\n",
        "my_tokenizer(\"u s forces hope that the world dominates by domination aggravation and fidelity\",\n",
        "            stemmer=stmr)"
      ]
    },
    {
      "cell_type": "code",
      "execution_count": null,
      "id": "1d721614",
      "metadata": {
        "colab": {
          "base_uri": "https://localhost:8080/"
        },
        "id": "1d721614",
        "outputId": "d530d250-7805-47ea-b408-e06b3341354e"
      },
      "outputs": [
        {
          "output_type": "execute_result",
          "data": {
            "text/plain": [
              "array(['dagger', 'die', 'juliet', 'new-hampshir', 'romeo'], dtype=object)"
            ]
          },
          "metadata": {},
          "execution_count": 8
        }
      ],
      "source": [
        "cv.get_feature_names_out()"
      ]
    },
    {
      "cell_type": "markdown",
      "id": "52fed428",
      "metadata": {
        "id": "52fed428"
      },
      "source": [
        "#### Reducing"
      ]
    },
    {
      "cell_type": "code",
      "execution_count": null,
      "id": "8bc669ce",
      "metadata": {
        "id": "8bc669ce"
      },
      "outputs": [],
      "source": [
        "reducer = TruncatedSVD(n_components=2)\n",
        "dtm2 = reducer.fit_transform(dtm)"
      ]
    },
    {
      "cell_type": "code",
      "execution_count": null,
      "id": "b98eea6c",
      "metadata": {
        "colab": {
          "base_uri": "https://localhost:8080/"
        },
        "id": "b98eea6c",
        "outputId": "8f7a59f6-fbd6-4aa6-e4a4-325181bf159e"
      },
      "outputs": [
        {
          "output_type": "execute_result",
          "data": {
            "text/plain": [
              "array([[ 0.94377067, -0.62279212],\n",
              "       [ 0.94377067, -0.62279212],\n",
              "       [ 1.54890367,  0.17205123],\n",
              "       [ 0.6544984 ,  1.19805373],\n",
              "       [ 0.17974866,  0.69503072]])"
            ]
          },
          "metadata": {},
          "execution_count": 10
        }
      ],
      "source": [
        "dtm2"
      ]
    },
    {
      "cell_type": "code",
      "execution_count": null,
      "id": "9409f9c9",
      "metadata": {
        "colab": {
          "base_uri": "https://localhost:8080/"
        },
        "id": "9409f9c9",
        "outputId": "44bbd5aa-0785-44d6-ad9e-6e499f828aa4"
      },
      "outputs": [
        {
          "output_type": "execute_result",
          "data": {
            "text/plain": [
              "array([[ 0.53707696,  0.47474974,  0.40669371,  0.17974866,  0.53707696],\n",
              "       [-0.16548589,  0.50302301, -0.45730623,  0.69503072, -0.16548589]])"
            ]
          },
          "metadata": {},
          "execution_count": 11
        }
      ],
      "source": [
        "reducer.components_"
      ]
    },
    {
      "cell_type": "code",
      "execution_count": null,
      "id": "782b753f",
      "metadata": {
        "id": "782b753f"
      },
      "outputs": [],
      "source": [
        "q0 = cv.transform(np.array([\"died dagger\"]))\n",
        "q1 = reducer.transform(q0)"
      ]
    },
    {
      "cell_type": "code",
      "execution_count": null,
      "id": "dd794905",
      "metadata": {
        "colab": {
          "base_uri": "https://localhost:8080/"
        },
        "id": "dd794905",
        "outputId": "c1138120-1e48-4ba8-cb96-b2b779f4be90"
      },
      "outputs": [
        {
          "output_type": "execute_result",
          "data": {
            "text/plain": [
              "array([[ 0.94377067, -0.62279212],\n",
              "       [ 0.94377067, -0.62279212],\n",
              "       [ 1.54890367,  0.17205123],\n",
              "       [ 0.6544984 ,  1.19805373],\n",
              "       [ 0.17974866,  0.69503072]])"
            ]
          },
          "metadata": {},
          "execution_count": 13
        }
      ],
      "source": [
        "dtm2"
      ]
    },
    {
      "cell_type": "markdown",
      "id": "b9ec4b27",
      "metadata": {
        "id": "b9ec4b27"
      },
      "source": [
        "We wanted d2, d1, d3, d0, d4  (most to least)\n",
        "\n",
        "We got:"
      ]
    },
    {
      "cell_type": "code",
      "execution_count": null,
      "id": "5e54a7fc",
      "metadata": {
        "colab": {
          "base_uri": "https://localhost:8080/"
        },
        "id": "5e54a7fc",
        "outputId": "75c1df4c-45ce-40cf-8835-d9aa2dde90e6"
      },
      "outputs": [
        {
          "output_type": "execute_result",
          "data": {
            "text/plain": [
              "array([2, 3, 0, 1, 4])"
            ]
          },
          "metadata": {},
          "execution_count": 14
        }
      ],
      "source": [
        "sims = cosine_similarity(q1,dtm2)\n",
        "sims.argsort()[0,:][::-1] #least to most: key 0 > 4"
      ]
    },
    {
      "cell_type": "code",
      "execution_count": null,
      "id": "4f0cb4e4",
      "metadata": {
        "colab": {
          "base_uri": "https://localhost:8080/"
        },
        "id": "4f0cb4e4",
        "outputId": "ff9d27ae-2efa-4bd1-b398-3531875132df"
      },
      "outputs": [
        {
          "output_type": "execute_result",
          "data": {
            "text/plain": [
              "('Romeo and Juliet.',\n",
              " 'Juliet: O happy dagger!',\n",
              " 'Romeo died by dagger.',\n",
              " \"' Live free or die ', that's New-Hampshire's motto.\",\n",
              " 'Did you know, New-Hampshire is in New-England?')"
            ]
          },
          "metadata": {},
          "execution_count": 15
        }
      ],
      "source": [
        "docs"
      ]
    },
    {
      "cell_type": "code",
      "execution_count": null,
      "id": "618910d0",
      "metadata": {
        "colab": {
          "base_uri": "https://localhost:8080/"
        },
        "id": "618910d0",
        "outputId": "e8c77ff6-b36b-4660-bc75-68857f5ba74b"
      },
      "outputs": [
        {
          "output_type": "execute_result",
          "data": {
            "text/plain": [
              "<Compressed Sparse Row sparse matrix of dtype 'int64'\n",
              "\twith 10 stored elements and shape (5, 5)>"
            ]
          },
          "metadata": {},
          "execution_count": 24
        }
      ],
      "source": [
        "dtm"
      ]
    },
    {
      "cell_type": "code",
      "execution_count": null,
      "id": "67b3ba07",
      "metadata": {
        "colab": {
          "base_uri": "https://localhost:8080/"
        },
        "id": "67b3ba07",
        "outputId": "92ce4c4a-7db4-4957-cd56-169273807ea5"
      },
      "outputs": [
        {
          "output_type": "execute_result",
          "data": {
            "text/plain": [
              "((5, 5), (5, 2))"
            ]
          },
          "metadata": {},
          "execution_count": 23
        }
      ],
      "source": [
        "tdm.shape,red2.shape"
      ]
    },
    {
      "cell_type": "code",
      "execution_count": null,
      "id": "247783f7",
      "metadata": {
        "colab": {
          "base_uri": "https://localhost:8080/"
        },
        "id": "247783f7",
        "outputId": "62b6f573-df5b-4dba-811c-0f83e7f79f89"
      },
      "outputs": [
        {
          "output_type": "execute_result",
          "data": {
            "text/plain": [
              "array([[ 1.58126112e-16, -1.03209670e+00],\n",
              "       [ 7.07106781e-01, -1.80924163e-01],\n",
              "       [ 1.99840144e-15, -5.45507975e-01],\n",
              "       [-7.07106781e-01,  6.83117689e-01],\n",
              "       [ 5.81549986e-17,  5.81229502e-01]])"
            ]
          },
          "metadata": {},
          "execution_count": 22
        }
      ],
      "source": [
        "from numpy.linalg import eig\n",
        "tdm = (dtm.toarray()).T\n",
        "GM = tdm.T@tdm\n",
        "# cols of evecs are the evecs\n",
        "evals,evecs = eig(GM)\n",
        "# confirms the last two are the biggest\n",
        "idxs = evals.argsort()\n",
        "(e0,e1) = evecs[:,-1],evecs[:,-2]\n",
        "red2 = evecs[:,-2:]\n",
        "(lambda0,lambda1) = evals[-1],evals[-2]\n",
        "#transform docs to 2D\n",
        "tdm2 = dtm@red2\n",
        "tdm2"
      ]
    },
    {
      "cell_type": "code",
      "execution_count": null,
      "id": "333612c9",
      "metadata": {
        "colab": {
          "base_uri": "https://localhost:8080/",
          "height": 562
        },
        "id": "333612c9",
        "outputId": "898f22e4-5684-4a6b-af7c-7ced058b1ac7"
      },
      "outputs": [
        {
          "output_type": "execute_result",
          "data": {
            "text/plain": [
              "<matplotlib.collections.PathCollection at 0x7f423d889250>"
            ]
          },
          "metadata": {},
          "execution_count": 21
        },
        {
          "output_type": "display_data",
          "data": {
            "text/plain": [
              "<Figure size 1000x600 with 2 Axes>"
            ],
            "image/png": "[encoded data removed]"
          },
          "metadata": {}
        }
      ],
      "source": [
        "from matplotlib import pyplot as plt\n",
        "\n",
        "(fig,(ax0,ax1)) = plt.subplots(1,2, figsize= (10,6))\n",
        "\n",
        "ax0.set_title(\"Docs\")\n",
        "ax0.scatter(dtm2[:,0],dtm2[:,1])\n",
        "ax1.set_title(\"Words\")\n",
        "ax1.scatter(tdm2[:,0],tdm2[:,1])"
      ]
    },
    {
      "cell_type": "markdown",
      "id": "40f28f26",
      "metadata": {
        "id": "40f28f26"
      },
      "source": [
        "## State of the Union Task"
      ]
    },
    {
      "cell_type": "markdown",
      "id": "be0d1578",
      "metadata": {
        "id": "be0d1578"
      },
      "source": [
        "1. Do a TruncatedSVD reduction of the State of the Union data set, which consists of all the state of the union addresses of U.S. presidents since the practice began (1945?  Harry S. Truman).  Construct a reducer designed to reduce the term document matrix to to 200 dimensions.  What number of dimensions does the model actually reduce to for our data?  Why?\n",
        "2. Find the document ranking for the two-word query \"evil empire\".\n",
        "3. Compute NQ, the set of documents that contain neither of the two query words.  Find the highest ranking document within NQ.\n",
        "4. Compare the highest ranking document in NQ with the next highest ranking document not in NQ.  Does their ranking reflect their relevance?\n",
        "5. What is the minimum value that the scikit learn implementation of cosine can take?  What is the minimum value of the cosine simlarity scores in our data?  If they differ by more than 1e-8, is that a property of our data or the SVD computation or the scikit learn implementation of cosine?  Why?  If you have no idea why, make an educated guess and explain what lies behind your guess.\n",
        "6. Find the two most similar documents (speeches), using cosine as you similarity measure, and using the reduced representation of the docments."
      ]
    },
    {
      "cell_type": "code",
      "execution_count": null,
      "id": "5e24efea",
      "metadata": {
        "id": "5e24efea"
      },
      "outputs": [],
      "source": [
        "from nltk.corpus import state_union\n",
        "from sklearn.feature_extraction.text import TfidfVectorizer"
      ]
    },
    {
      "cell_type": "code",
      "execution_count": null,
      "id": "b19c689a",
      "metadata": {
        "colab": {
          "base_uri": "https://localhost:8080/"
        },
        "id": "b19c689a",
        "outputId": "7e09d3b7-5fcc-4535-d3a6-ac4f58d5981b"
      },
      "outputs": [
        {
          "output_type": "stream",
          "name": "stderr",
          "text": [
            "[nltk_data] Downloading package state_union to /root/nltk_data...\n",
            "[nltk_data]   Unzipping corpora/state_union.zip.\n"
          ]
        }
      ],
      "source": [
        "import nltk\n",
        "nltk.download('state_union')\n",
        "\n",
        "from nltk.corpus import state_union\n",
        "from sklearn.feature_extraction.text import TfidfVectorizer\n",
        "\n",
        "fid0 =state_union.fileids()[0]\n",
        "docs = []\n",
        "for fid in state_union.fileids():\n",
        "    with state_union.open(fid) as fh:\n",
        "        docs.append(fh.read())"
      ]
    },
    {
      "cell_type": "code",
      "execution_count": null,
      "id": "fb9901d2",
      "metadata": {
        "colab": {
          "base_uri": "https://localhost:8080/"
        },
        "id": "fb9901d2",
        "outputId": "177cd16f-d71d-4369-ffd0-e906b66c2746"
      },
      "outputs": [
        {
          "output_type": "stream",
          "name": "stderr",
          "text": [
            "[nltk_data] Downloading package stopwords to /root/nltk_data...\n",
            "[nltk_data]   Unzipping corpora/stopwords.zip.\n"
          ]
        }
      ],
      "source": [
        "from nltk.corpus import stopwords\n",
        "import nltk\n",
        "from nltk.tokenize import TreebankWordTokenizer\n",
        "from sklearn.decomposition import TruncatedSVD\n",
        "from sklearn.metrics.pairwise import cosine_similarity\n",
        "import numpy as np\n",
        "\n",
        "nltk.download('stopwords')\n",
        "\n",
        "def my_tokenizer (doc,stemmer=stemmer,tknzr=tb_tknzr):\n",
        "    return [stemmer.stem(wd) for wd in tknzr.tokenize(doc)]\n",
        "\n",
        "stemmer = nltk.PorterStemmer()\n",
        "stops = [stemmer.stem(st) for st in stopwords.words(\"english\")]\n",
        "tb_tknzr = TreebankWordTokenizer()\n",
        "puncts = list(\":,.?!\\'\")\n",
        "cv = TfidfVectorizer(stop_words=stops+puncts,tokenizer=my_tokenizer,min_df=2,token_pattern=None)"
      ]
    },
    {
      "cell_type": "code",
      "execution_count": null,
      "id": "190d79ca",
      "metadata": {
        "colab": {
          "base_uri": "https://localhost:8080/"
        },
        "id": "190d79ca",
        "outputId": "4c330313-c8fc-48ad-8b25-deb5475bcbf3"
      },
      "outputs": [
        {
          "output_type": "stream",
          "name": "stdout",
          "text": [
            "The actual number of dimensions after reduction is: 65\n",
            "This is because the number of unique features (terms) in the data is less than the requested 200 dimensions.\n",
            "\n",
            "Document ranking for two-word query 'evil empire':\n",
            "Rank 1: 1965-Johnson-2.txt\n",
            "Rank 2: 1963-Johnson.txt\n",
            "Rank 3: 1949-Truman.txt\n",
            "Rank 4: 1963-Kennedy.txt\n",
            "Rank 5: 2003-GWBush.txt\n",
            "Rank 6: 1979-Carter.txt\n",
            "Rank 7: 1973-Nixon.txt\n",
            "Rank 8: 1980-Carter.txt\n",
            "Rank 9: 1965-Johnson-1.txt\n",
            "Rank 10: 1950-Truman.txt\n",
            "Rank 11: 2002-GWBush.txt\n",
            "Rank 12: 2001-GWBush-2.txt\n",
            "Rank 13: 1982-Reagan.txt\n",
            "Rank 14: 1967-Johnson.txt\n",
            "Rank 15: 2005-GWBush.txt\n",
            "Rank 16: 1991-Bush-2.txt\n",
            "Rank 17: 1972-Nixon.txt\n",
            "Rank 18: 1951-Truman.txt\n",
            "Rank 19: 1991-Bush-1.txt\n",
            "Rank 20: 1948-Truman.txt\n",
            "Rank 21: 1976-Ford.txt\n",
            "Rank 22: 1994-Clinton.txt\n",
            "Rank 23: 1995-Clinton.txt\n",
            "Rank 24: 2006-GWBush.txt\n",
            "Rank 25: 2004-GWBush.txt\n",
            "Rank 26: 1946-Truman.txt\n",
            "Rank 27: 1958-Eisenhower.txt\n",
            "Rank 28: 1945-Truman.txt\n",
            "Rank 29: 1970-Nixon.txt\n",
            "Rank 30: 1956-Eisenhower.txt\n",
            "Rank 31: 1955-Eisenhower.txt\n",
            "Rank 32: 1999-Clinton.txt\n",
            "Rank 33: 1974-Nixon.txt\n",
            "Rank 34: 1987-Reagan.txt\n",
            "Rank 35: 1947-Truman.txt\n",
            "Rank 36: 1960-Eisenhower.txt\n",
            "Rank 37: 1996-Clinton.txt\n",
            "Rank 38: 1968-Johnson.txt\n",
            "Rank 39: 1989-Bush.txt\n",
            "Rank 40: 1954-Eisenhower.txt\n",
            "Rank 41: 1971-Nixon.txt\n",
            "Rank 42: 1981-Reagan.txt\n",
            "Rank 43: 2000-Clinton.txt\n",
            "Rank 44: 1992-Bush.txt\n",
            "Rank 45: 1961-Kennedy.txt\n",
            "Rank 46: 2001-GWBush-1.txt\n",
            "Rank 47: 1969-Johnson.txt\n",
            "Rank 48: 1988-Reagan.txt\n",
            "Rank 49: 1985-Reagan.txt\n",
            "Rank 50: 1957-Eisenhower.txt\n",
            "Rank 51: 1993-Clinton.txt\n",
            "Rank 52: 1998-Clinton.txt\n",
            "Rank 53: 1978-Carter.txt\n",
            "Rank 54: 1977-Ford.txt\n",
            "Rank 55: 1953-Eisenhower.txt\n",
            "Rank 56: 1983-Reagan.txt\n",
            "Rank 57: 1962-Kennedy.txt\n",
            "Rank 58: 1986-Reagan.txt\n",
            "Rank 59: 1959-Eisenhower.txt\n",
            "Rank 60: 1964-Johnson.txt\n",
            "Rank 61: 1997-Clinton.txt\n",
            "Rank 62: 1990-Bush.txt\n",
            "Rank 63: 1984-Reagan.txt\n",
            "Rank 64: 1966-Johnson.txt\n",
            "Rank 65: 1975-Ford.txt\n",
            "\n",
            "Highest ranking docuzment in NQ ('documents that contain neither of the two query words'): 1958-Eisenhower.txt\n",
            "Its similarity score is: 4.030504794782507e-16\n",
            "\n",
            "Comparing relevance:\n",
            "Highest ranking document in NQ: 1958-Eisenhower.txt (Similarity: 4.030504794782507e-16)\n",
            "Highest ranking document not in NQ: 1965-Johnson-2.txt (Similarity: 0.352964250334539)\n",
            "\n",
            "Minimum theoretical value of scikit-learn cosine similarity: -1.0\n",
            "Minimum cosine similarity in our data: 0.5438834144424806\n",
            "The minimum values differ by more than 1e-08.\n",
            "This difference is likely a property of our data and the SVD computation, not the scikit-learn implementation of cosine.\n",
            "\n",
            "The two most similar documents are:\n",
            "Document 1: 2002-GWBush.txt\n",
            "Document 2: 2004-GWBush.txt\n",
            "Cosine Similarity: 0.9011267851673441\n"
          ]
        }
      ],
      "source": [
        "dtm = cv.fit_transform(docs)\n",
        "\n",
        "#1\n",
        "reducer = TruncatedSVD(n_components=200)\n",
        "dtm_reduced = reducer.fit_transform(dtm)\n",
        "actual_dimensions = dtm_reduced.shape[1]\n",
        "print(f\"The actual number of dimensions after reduction is: {actual_dimensions}\")\n",
        "print(\"This is because the number of unique features (terms) in the data is less than the requested 200 dimensions.\")\n",
        "\n",
        "#2\n",
        "query = \"evil empire\"\n",
        "query_vector = cv.transform([query])\n",
        "query_vector_reduced = reducer.transform(query_vector)\n",
        "similarities = cosine_similarity(query_vector_reduced, dtm_reduced)\n",
        "ranking_indices = similarities.argsort()[0][::-1]\n",
        "\n",
        "print(\"\\nDocument ranking for two-word query 'evil empire':\")\n",
        "for rank, index in enumerate(ranking_indices):\n",
        "    print(f\"Rank {rank + 1}: {state_union.fileids()[index]}\")\n",
        "query_words = query.split()\n",
        "nq_indices = []\n",
        "for i, doc in enumerate(docs):\n",
        "    contains_query_word = False\n",
        "    for word in query_words:\n",
        "        if word.lower() in doc.lower():\n",
        "            contains_query_word = True\n",
        "            break\n",
        "    if not contains_query_word:\n",
        "        nq_indices.append(i)\n",
        "\n",
        "#3\n",
        "highest_ranking_nq_index = -1\n",
        "highest_ranking_nq_similarity = -1\n",
        "for rank_index in ranking_indices:\n",
        "    if rank_index in nq_indices:\n",
        "        highest_ranking_nq_index = rank_index\n",
        "        highest_ranking_nq_similarity = similarities[0, rank_index]\n",
        "        break\n",
        "if highest_ranking_nq_index != -1:\n",
        "    print(f\"\\nHighest ranking docuzment in NQ ('documents that contain neither of the two query words'): {state_union.fileids()[highest_ranking_nq_index]}\")\n",
        "    print(f\"Its similarity score is: {highest_ranking_nq_similarity}\")\n",
        "else:\n",
        "    print(\"\\nNo documents in NQ (all documents contain at least one query word).\")\n",
        "\n",
        "#4\n",
        "highest_ranking_not_nq_index = -1\n",
        "highest_ranking_not_nq_similarity = -1\n",
        "for rank_index in ranking_indices:\n",
        "    if rank_index not in nq_indices:\n",
        "        highest_ranking_not_nq_index = rank_index\n",
        "        highest_ranking_not_nq_similarity = similarities[0, rank_index]\n",
        "        break\n",
        "\n",
        "print(\"\\nComparing relevance:\")\n",
        "if highest_ranking_nq_index != -1 and highest_ranking_not_nq_index != -1:\n",
        "    print(f\"Highest ranking document in NQ: {state_union.fileids()[highest_ranking_nq_index]} (Similarity: {highest_ranking_nq_similarity})\")\n",
        "    print(f\"Highest ranking document not in NQ: {state_union.fileids()[highest_ranking_not_nq_index]} (Similarity: {highest_ranking_not_nq_similarity})\")\n",
        "else:\n",
        "    print(\"Cannot perform comparison as either NQ or the set of documents not in NQ is empty.\")\n",
        "\n",
        "#5\n",
        "min_sklearn_cosine = -1.0\n",
        "print(f\"\\nMinimum theoretical value of scikit-learn cosine similarity: {min_sklearn_cosine}\")\n",
        "min_data_cosine = np.min(sims)\n",
        "print(f\"Minimum cosine similarity in our data: {min_data_cosine}\")\n",
        "tolerance = 1e-8\n",
        "if abs(min_data_cosine - min_sklearn_cosine) > tolerance:\n",
        "    print(f\"The minimum values differ by more than {tolerance}.\")\n",
        "    print(\"This difference is likely a property of our data and the SVD computation, not the scikit-learn implementation of cosine.\")\n",
        "else:\n",
        "    print(f\"The minimum values do not differ significantly (within a tolerance of {tolerance}).\")\n",
        "\n",
        "#6\n",
        "pairwise_similarities = cosine_similarity(dtm_reduced)\n",
        "np.fill_diagonal(pairwise_similarities, -1)\n",
        "most_similar_indices = np.unravel_index(np.argmax(pairwise_similarities), pairwise_similarities.shape)\n",
        "\n",
        "doc1_index = most_similar_indices[0]\n",
        "doc2_index = most_similar_indices[1]\n",
        "similarity_score = pairwise_similarities[doc1_index, doc2_index]\n",
        "\n",
        "print(f\"\\nThe two most similar documents are:\")\n",
        "print(f\"Document 1: {state_union.fileids()[doc1_index]}\")\n",
        "print(f\"Document 2: {state_union.fileids()[doc2_index]}\")\n",
        "print(f\"Cosine Similarity: {similarity_score}\")"
      ]
    }
  ],
  "metadata": {
    "kernelspec": {
      "display_name": "Python 3 (ipykernel)",
      "language": "python",
      "name": "python3"
    },
    "language_info": {
      "codemirror_mode": {
        "name": "ipython",
        "version": 3
      },
      "file_extension": ".py",
      "mimetype": "text/x-python",
      "name": "python",
      "nbconvert_exporter": "python",
      "pygments_lexer": "ipython3",
      "version": "3.12.5"
    },
    "colab": {
      "provenance": [],
      "toc_visible": true
    }
  },
  "nbformat": 4,
  "nbformat_minor": 5
}